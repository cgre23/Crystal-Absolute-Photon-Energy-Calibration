{
 "cells": [
  {
   "cell_type": "code",
   "execution_count": null,
   "id": "339df063-54cb-4204-8515-5224c97107bc",
   "metadata": {},
   "outputs": [],
   "source": [
    "\n",
    "\n",
    "from keybert import KeyBERT\n",
    "\n",
    "doc = \"\"\"\n",
    "         In this work, a Preisach-recurrent neural network model is proposed to predict the dynamic hysteresis in ARMCO pure iron, an important soft magnetic material in \n",
    "         particle accelerator magnets. A recurrent neural network coupled with Preisach play operators is proposed, \n",
    "         along with a novel validation method for the identification of the model’s parameters. \n",
    "         The proposed model is found to predict the magnetic flux density of ARMCO pure iron with a \n",
    "         Normalised Root Mean Square Error (NRMSE) better than 0.7%, when trained with just six different \n",
    "         hysteresis loops. The model is evaluated using ramp-rates not used in the training procedure, \n",
    "         which shows the ability of the model to predict data which has not been measured. The results demonstrate \n",
    "         that the Preisach model based on a recurrent neural network can accurately describe ferromagnetic dynamic\n",
    "         hysteresis when trained with a limited amount of data, showing the model’s potential in the field of materials \n",
    "         science.\n",
    "      \"\"\"\n",
    "kw_model = KeyBERT()\n",
    "keywords = kw_model.extract_keywords(doc)"
   ]
  },
  {
   "cell_type": "code",
   "execution_count": null,
   "id": "84974956-f93e-4b21-beee-9cc0fc9868cb",
   "metadata": {},
   "outputs": [],
   "source": [
    "kw_model.extract_keywords(doc, keyphrase_ngram_range=(1, 1), stop_words=None)"
   ]
  },
  {
   "cell_type": "code",
   "execution_count": null,
   "id": "f8cc61ad-db18-4460-9a0b-99ffba15fa2a",
   "metadata": {},
   "outputs": [],
   "source": [
    "keywords"
   ]
  },
  {
   "cell_type": "code",
   "execution_count": 4,
   "id": "cd60e44d-0b99-474f-a468-ca48669c6b5d",
   "metadata": {},
   "outputs": [
    {
     "name": "stdout",
     "output_type": "stream",
     "text": [
      "Requirement already satisfied: pip in /Users/christiangrech/opt/anaconda3/lib/python3.8/site-packages (23.0.1)\n",
      "Collecting pip\n",
      "  Downloading pip-23.1.2-py3-none-any.whl (2.1 MB)\n",
      "\u001b[2K     \u001b[38;2;114;156;31m━━━━━━━━━━━━━━━━━━━━━━━━━━━━━━━━━━━━━━━━\u001b[0m \u001b[32m2.1/2.1 MB\u001b[0m \u001b[31m6.6 MB/s\u001b[0m eta \u001b[36m0:00:00\u001b[0m[31m6.8 MB/s\u001b[0m eta \u001b[36m0:00:01\u001b[0m\n",
      "\u001b[?25hInstalling collected packages: pip\n",
      "  Attempting uninstall: pip\n",
      "    Found existing installation: pip 23.0.1\n",
      "    Uninstalling pip-23.0.1:\n",
      "      Successfully uninstalled pip-23.0.1\n",
      "Successfully installed pip-23.1.2\n"
     ]
    }
   ],
   "source": [
    "!pip install --upgrade pip\n",
    "    "
   ]
  },
  {
   "cell_type": "code",
   "execution_count": null,
   "id": "1812c987-9e5a-4f62-9e2d-50d073520b89",
   "metadata": {},
   "outputs": [],
   "source": []
  }
 ],
 "metadata": {
  "kernelspec": {
   "display_name": "Python 3",
   "language": "python",
   "name": "python3"
  },
  "language_info": {
   "codemirror_mode": {
    "name": "ipython",
    "version": 3
   },
   "file_extension": ".py",
   "mimetype": "text/x-python",
   "name": "python",
   "nbconvert_exporter": "python",
   "pygments_lexer": "ipython3",
   "version": "3.8.13"
  }
 },
 "nbformat": 4,
 "nbformat_minor": 5
}
